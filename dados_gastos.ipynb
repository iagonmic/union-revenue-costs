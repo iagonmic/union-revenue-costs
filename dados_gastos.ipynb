{
 "cells": [
  {
   "cell_type": "code",
   "execution_count": 2,
   "id": "ca09550e",
   "metadata": {},
   "outputs": [],
   "source": [
    "import ipeadatapy as ipea\n",
    "import pandas as pd\n",
    "\n",
    "df = ipea.list_series()"
   ]
  },
  {
   "cell_type": "code",
   "execution_count": 15,
   "id": "567c49ea",
   "metadata": {},
   "outputs": [
    {
     "data": {
      "application/vnd.microsoft.datawrangler.viewer.v0+json": {
       "columns": [
        {
         "name": "index",
         "rawType": "object",
         "type": "string"
        },
        {
         "name": "CODE",
         "rawType": "object",
         "type": "string"
        },
        {
         "name": "NAME",
         "rawType": "object",
         "type": "string"
        }
       ],
       "conversionMethod": "pd.DataFrame",
       "ref": "80752338-1555-4273-af7c-cb60108dc7a6",
       "rows": [
        [
         "611",
         "DFADME",
         "Despesa por função - administração - empenhada - estadual"
        ],
        [
         "612",
         "DFADMM",
         "Despesa por função - administração - empenhada - municipal"
        ],
        [
         "613",
         "DFAGRE",
         "Despesa por função - gestão ambiental, agricultura e organização agrária - empenhada - estadual"
        ],
        [
         "614",
         "DFAGRM",
         "Despesa por função - gestão ambiental, agricultura e organização agrária - empenhada - municipal"
        ],
        [
         "615",
         "DFASPRE",
         "Despesa por função - assistência social e previdência social - empenhada - estadual"
        ],
        [
         "616",
         "DFASPRM",
         "Despesa por função - assistência social e previdência social - empenhada - municipal"
        ],
        [
         "617",
         "DFCETE",
         "Despesa por função - ciência e tecnologia - empenhada - estadual"
        ],
        [
         "618",
         "DFCETM",
         "Despesa por função - ciência e tecnologia - empenhada - municipal"
        ],
        [
         "619",
         "DFCOME",
         "Despesa por função - comunicações - empenhada - estadual"
        ],
        [
         "620",
         "DFCOMM",
         "Despesa por função - comunicações - empenhada - municipal"
        ],
        [
         "621",
         "DFDEFSE",
         "Despesa por função - segurança pública e defesa nacional - empenhada - estadual"
        ],
        [
         "622",
         "DFDEFSM",
         "Despesa por função - segurança pública e defesa nacional - empenhada - municipal"
        ],
        [
         "623",
         "DFDELE",
         "Despesa por função - desportes e lazer - empenhada - estadual"
        ],
        [
         "624",
         "DFDELM",
         "Despesa por função - desportes e lazer - empenhada - municipal"
        ],
        [
         "625",
         "DFEDUCE",
         "Despesa por função - educação e cultura - empenhada - estadual"
        ],
        [
         "626",
         "DFEDUCM",
         "Despesa por função - educação e cultura - empenhada - municipal"
        ],
        [
         "627",
         "DFENCEE",
         "Despesa por função - encargos especiais - empenhada - estadual"
        ],
        [
         "628",
         "DFENCEM",
         "Despesa por função - encargos especiais - empenhada - municipal"
        ],
        [
         "629",
         "DFENERE",
         "Despesa por função - energia - empenhada - estadual"
        ],
        [
         "630",
         "DFENERM",
         "Despesa por função - energia - empenhada - municipal"
        ],
        [
         "631",
         "DFHABE",
         "Despesa por função - urbanismo e habitação - empenhada - estadual"
        ],
        [
         "632",
         "DFHABM",
         "Despesa por função - urbanismo e habitação - empenhada - municipal"
        ],
        [
         "633",
         "DFICSE",
         "Despesa por função - indústria e comércio e serviços - empenhada - estadual"
        ],
        [
         "634",
         "DFICSM",
         "Despesa por função - indústria e comércio e serviços - empenhada - municipal"
        ],
        [
         "635",
         "DFJEDCE",
         "Despesa por função - essencial à justiça e direito da cidadania - empenhada - estadual"
        ],
        [
         "636",
         "DFJEDCM",
         "Despesa por função - essencial à justiça e direito da cidadania - empenhada - municipal"
        ],
        [
         "637",
         "DFJUDE",
         "Despesa por função - judiciária - empenhada - estadual"
        ],
        [
         "638",
         "DFJUDM",
         "Despesa por função - judiciária - empenhada - municipal"
        ],
        [
         "639",
         "DFLEGE",
         "Despesa por função - legislativa - empenhada - estadual"
        ],
        [
         "640",
         "DFLEGM",
         "Despesa por função - legislativa - empenhada - municipal"
        ],
        [
         "641",
         "DFOFE",
         "Despesa por função - empenhada - estadual"
        ],
        [
         "642",
         "DFOFM",
         "Despesa por função - empenhada - municipal"
        ],
        [
         "643",
         "DFRELEXE",
         "Despesa por função - relações exteriores - empenhada - estadual"
        ],
        [
         "644",
         "DFRELEXM",
         "Despesa por função - relações exteriores - empenhada - municipal"
        ],
        [
         "645",
         "DFSAUSE",
         "Despesa por função - saúde e saneamento - empenhada - estadual"
        ],
        [
         "646",
         "DFSAUSM",
         "Despesa por função - saúde e saneamento - empenhada - municipal"
        ],
        [
         "647",
         "DFTRABE",
         "Despesa por função - trabalho - empenhada - estadual"
        ],
        [
         "648",
         "DFTRABM",
         "Despesa por função - trabalho - empenhada - municipal"
        ],
        [
         "649",
         "DFTRAE",
         "Despesa por função - transporte - empenhada - estadual"
        ],
        [
         "650",
         "DFTRAM",
         "Despesa por função - transporte - empenhada - municipal"
        ]
       ],
       "shape": {
        "columns": 2,
        "rows": 40
       }
      },
      "text/html": [
       "<div>\n",
       "<style scoped>\n",
       "    .dataframe tbody tr th:only-of-type {\n",
       "        vertical-align: middle;\n",
       "    }\n",
       "\n",
       "    .dataframe tbody tr th {\n",
       "        vertical-align: top;\n",
       "    }\n",
       "\n",
       "    .dataframe thead th {\n",
       "        text-align: right;\n",
       "    }\n",
       "</style>\n",
       "<table border=\"1\" class=\"dataframe\">\n",
       "  <thead>\n",
       "    <tr style=\"text-align: right;\">\n",
       "      <th></th>\n",
       "      <th>CODE</th>\n",
       "      <th>NAME</th>\n",
       "    </tr>\n",
       "  </thead>\n",
       "  <tbody>\n",
       "    <tr>\n",
       "      <th>611</th>\n",
       "      <td>DFADME</td>\n",
       "      <td>Despesa por função - administração - empenhada...</td>\n",
       "    </tr>\n",
       "    <tr>\n",
       "      <th>612</th>\n",
       "      <td>DFADMM</td>\n",
       "      <td>Despesa por função - administração - empenhada...</td>\n",
       "    </tr>\n",
       "    <tr>\n",
       "      <th>613</th>\n",
       "      <td>DFAGRE</td>\n",
       "      <td>Despesa por função - gestão ambiental, agricul...</td>\n",
       "    </tr>\n",
       "    <tr>\n",
       "      <th>614</th>\n",
       "      <td>DFAGRM</td>\n",
       "      <td>Despesa por função - gestão ambiental, agricul...</td>\n",
       "    </tr>\n",
       "    <tr>\n",
       "      <th>615</th>\n",
       "      <td>DFASPRE</td>\n",
       "      <td>Despesa por função - assistência social e prev...</td>\n",
       "    </tr>\n",
       "    <tr>\n",
       "      <th>616</th>\n",
       "      <td>DFASPRM</td>\n",
       "      <td>Despesa por função - assistência social e prev...</td>\n",
       "    </tr>\n",
       "    <tr>\n",
       "      <th>617</th>\n",
       "      <td>DFCETE</td>\n",
       "      <td>Despesa por função - ciência e tecnologia - em...</td>\n",
       "    </tr>\n",
       "    <tr>\n",
       "      <th>618</th>\n",
       "      <td>DFCETM</td>\n",
       "      <td>Despesa por função - ciência e tecnologia - em...</td>\n",
       "    </tr>\n",
       "    <tr>\n",
       "      <th>619</th>\n",
       "      <td>DFCOME</td>\n",
       "      <td>Despesa por função - comunicações - empenhada ...</td>\n",
       "    </tr>\n",
       "    <tr>\n",
       "      <th>620</th>\n",
       "      <td>DFCOMM</td>\n",
       "      <td>Despesa por função - comunicações - empenhada ...</td>\n",
       "    </tr>\n",
       "    <tr>\n",
       "      <th>621</th>\n",
       "      <td>DFDEFSE</td>\n",
       "      <td>Despesa por função - segurança pública e defes...</td>\n",
       "    </tr>\n",
       "    <tr>\n",
       "      <th>622</th>\n",
       "      <td>DFDEFSM</td>\n",
       "      <td>Despesa por função - segurança pública e defes...</td>\n",
       "    </tr>\n",
       "    <tr>\n",
       "      <th>623</th>\n",
       "      <td>DFDELE</td>\n",
       "      <td>Despesa por função - desportes e lazer - empen...</td>\n",
       "    </tr>\n",
       "    <tr>\n",
       "      <th>624</th>\n",
       "      <td>DFDELM</td>\n",
       "      <td>Despesa por função - desportes e lazer - empen...</td>\n",
       "    </tr>\n",
       "    <tr>\n",
       "      <th>625</th>\n",
       "      <td>DFEDUCE</td>\n",
       "      <td>Despesa por função - educação e cultura - empe...</td>\n",
       "    </tr>\n",
       "    <tr>\n",
       "      <th>626</th>\n",
       "      <td>DFEDUCM</td>\n",
       "      <td>Despesa por função - educação e cultura - empe...</td>\n",
       "    </tr>\n",
       "    <tr>\n",
       "      <th>627</th>\n",
       "      <td>DFENCEE</td>\n",
       "      <td>Despesa por função - encargos especiais - empe...</td>\n",
       "    </tr>\n",
       "    <tr>\n",
       "      <th>628</th>\n",
       "      <td>DFENCEM</td>\n",
       "      <td>Despesa por função - encargos especiais - empe...</td>\n",
       "    </tr>\n",
       "    <tr>\n",
       "      <th>629</th>\n",
       "      <td>DFENERE</td>\n",
       "      <td>Despesa por função - energia - empenhada - est...</td>\n",
       "    </tr>\n",
       "    <tr>\n",
       "      <th>630</th>\n",
       "      <td>DFENERM</td>\n",
       "      <td>Despesa por função - energia - empenhada - mun...</td>\n",
       "    </tr>\n",
       "    <tr>\n",
       "      <th>631</th>\n",
       "      <td>DFHABE</td>\n",
       "      <td>Despesa por função - urbanismo e habitação - e...</td>\n",
       "    </tr>\n",
       "    <tr>\n",
       "      <th>632</th>\n",
       "      <td>DFHABM</td>\n",
       "      <td>Despesa por função - urbanismo e habitação - e...</td>\n",
       "    </tr>\n",
       "    <tr>\n",
       "      <th>633</th>\n",
       "      <td>DFICSE</td>\n",
       "      <td>Despesa por função - indústria e comércio e se...</td>\n",
       "    </tr>\n",
       "    <tr>\n",
       "      <th>634</th>\n",
       "      <td>DFICSM</td>\n",
       "      <td>Despesa por função - indústria e comércio e se...</td>\n",
       "    </tr>\n",
       "    <tr>\n",
       "      <th>635</th>\n",
       "      <td>DFJEDCE</td>\n",
       "      <td>Despesa por função - essencial à justiça e dir...</td>\n",
       "    </tr>\n",
       "    <tr>\n",
       "      <th>636</th>\n",
       "      <td>DFJEDCM</td>\n",
       "      <td>Despesa por função - essencial à justiça e dir...</td>\n",
       "    </tr>\n",
       "    <tr>\n",
       "      <th>637</th>\n",
       "      <td>DFJUDE</td>\n",
       "      <td>Despesa por função - judiciária - empenhada - ...</td>\n",
       "    </tr>\n",
       "    <tr>\n",
       "      <th>638</th>\n",
       "      <td>DFJUDM</td>\n",
       "      <td>Despesa por função - judiciária - empenhada - ...</td>\n",
       "    </tr>\n",
       "    <tr>\n",
       "      <th>639</th>\n",
       "      <td>DFLEGE</td>\n",
       "      <td>Despesa por função - legislativa - empenhada -...</td>\n",
       "    </tr>\n",
       "    <tr>\n",
       "      <th>640</th>\n",
       "      <td>DFLEGM</td>\n",
       "      <td>Despesa por função - legislativa - empenhada -...</td>\n",
       "    </tr>\n",
       "    <tr>\n",
       "      <th>641</th>\n",
       "      <td>DFOFE</td>\n",
       "      <td>Despesa por função - empenhada - estadual</td>\n",
       "    </tr>\n",
       "    <tr>\n",
       "      <th>642</th>\n",
       "      <td>DFOFM</td>\n",
       "      <td>Despesa por função - empenhada - municipal</td>\n",
       "    </tr>\n",
       "    <tr>\n",
       "      <th>643</th>\n",
       "      <td>DFRELEXE</td>\n",
       "      <td>Despesa por função - relações exteriores - emp...</td>\n",
       "    </tr>\n",
       "    <tr>\n",
       "      <th>644</th>\n",
       "      <td>DFRELEXM</td>\n",
       "      <td>Despesa por função - relações exteriores - emp...</td>\n",
       "    </tr>\n",
       "    <tr>\n",
       "      <th>645</th>\n",
       "      <td>DFSAUSE</td>\n",
       "      <td>Despesa por função - saúde e saneamento - empe...</td>\n",
       "    </tr>\n",
       "    <tr>\n",
       "      <th>646</th>\n",
       "      <td>DFSAUSM</td>\n",
       "      <td>Despesa por função - saúde e saneamento - empe...</td>\n",
       "    </tr>\n",
       "    <tr>\n",
       "      <th>647</th>\n",
       "      <td>DFTRABE</td>\n",
       "      <td>Despesa por função - trabalho - empenhada - es...</td>\n",
       "    </tr>\n",
       "    <tr>\n",
       "      <th>648</th>\n",
       "      <td>DFTRABM</td>\n",
       "      <td>Despesa por função - trabalho - empenhada - mu...</td>\n",
       "    </tr>\n",
       "    <tr>\n",
       "      <th>649</th>\n",
       "      <td>DFTRAE</td>\n",
       "      <td>Despesa por função - transporte - empenhada - ...</td>\n",
       "    </tr>\n",
       "    <tr>\n",
       "      <th>650</th>\n",
       "      <td>DFTRAM</td>\n",
       "      <td>Despesa por função - transporte - empenhada - ...</td>\n",
       "    </tr>\n",
       "  </tbody>\n",
       "</table>\n",
       "</div>"
      ],
      "text/plain": [
       "         CODE                                               NAME\n",
       "611    DFADME  Despesa por função - administração - empenhada...\n",
       "612    DFADMM  Despesa por função - administração - empenhada...\n",
       "613    DFAGRE  Despesa por função - gestão ambiental, agricul...\n",
       "614    DFAGRM  Despesa por função - gestão ambiental, agricul...\n",
       "615   DFASPRE  Despesa por função - assistência social e prev...\n",
       "616   DFASPRM  Despesa por função - assistência social e prev...\n",
       "617    DFCETE  Despesa por função - ciência e tecnologia - em...\n",
       "618    DFCETM  Despesa por função - ciência e tecnologia - em...\n",
       "619    DFCOME  Despesa por função - comunicações - empenhada ...\n",
       "620    DFCOMM  Despesa por função - comunicações - empenhada ...\n",
       "621   DFDEFSE  Despesa por função - segurança pública e defes...\n",
       "622   DFDEFSM  Despesa por função - segurança pública e defes...\n",
       "623    DFDELE  Despesa por função - desportes e lazer - empen...\n",
       "624    DFDELM  Despesa por função - desportes e lazer - empen...\n",
       "625   DFEDUCE  Despesa por função - educação e cultura - empe...\n",
       "626   DFEDUCM  Despesa por função - educação e cultura - empe...\n",
       "627   DFENCEE  Despesa por função - encargos especiais - empe...\n",
       "628   DFENCEM  Despesa por função - encargos especiais - empe...\n",
       "629   DFENERE  Despesa por função - energia - empenhada - est...\n",
       "630   DFENERM  Despesa por função - energia - empenhada - mun...\n",
       "631    DFHABE  Despesa por função - urbanismo e habitação - e...\n",
       "632    DFHABM  Despesa por função - urbanismo e habitação - e...\n",
       "633    DFICSE  Despesa por função - indústria e comércio e se...\n",
       "634    DFICSM  Despesa por função - indústria e comércio e se...\n",
       "635   DFJEDCE  Despesa por função - essencial à justiça e dir...\n",
       "636   DFJEDCM  Despesa por função - essencial à justiça e dir...\n",
       "637    DFJUDE  Despesa por função - judiciária - empenhada - ...\n",
       "638    DFJUDM  Despesa por função - judiciária - empenhada - ...\n",
       "639    DFLEGE  Despesa por função - legislativa - empenhada -...\n",
       "640    DFLEGM  Despesa por função - legislativa - empenhada -...\n",
       "641     DFOFE          Despesa por função - empenhada - estadual\n",
       "642     DFOFM         Despesa por função - empenhada - municipal\n",
       "643  DFRELEXE  Despesa por função - relações exteriores - emp...\n",
       "644  DFRELEXM  Despesa por função - relações exteriores - emp...\n",
       "645   DFSAUSE  Despesa por função - saúde e saneamento - empe...\n",
       "646   DFSAUSM  Despesa por função - saúde e saneamento - empe...\n",
       "647   DFTRABE  Despesa por função - trabalho - empenhada - es...\n",
       "648   DFTRABM  Despesa por função - trabalho - empenhada - mu...\n",
       "649    DFTRAE  Despesa por função - transporte - empenhada - ...\n",
       "650    DFTRAM  Despesa por função - transporte - empenhada - ..."
      ]
     },
     "execution_count": 15,
     "metadata": {},
     "output_type": "execute_result"
    }
   ],
   "source": [
    "df\n",
    "\n",
    "df_filtrado = df[df['NAME'].str.contains('Despesa por função', case=False, na=False)]\n",
    "\n",
    "df_filtrado\n"
   ]
  },
  {
   "cell_type": "code",
   "execution_count": 8,
   "id": "6f2d504c",
   "metadata": {},
   "outputs": [],
   "source": [
    "# Saúde por Estado\n",
    "\n",
    "df = ipea.timeseries('DFSAUSE') # Colocar codigo da serie\n",
    "\n",
    "df_filtrado_1980_2000 = df[(df['YEAR'] >= 1980) & (df['YEAR'] <= 2000)]\n",
    "\n",
    "df_filtrado_2000_atual = df[(df['YEAR'] >= 2000)]"
   ]
  },
  {
   "cell_type": "code",
   "execution_count": 9,
   "id": "6a2582af",
   "metadata": {},
   "outputs": [
    {
     "data": {
      "application/vnd.microsoft.datawrangler.viewer.v0+json": {
       "columns": [
        {
         "name": "DATE",
         "rawType": "datetime64[ns]",
         "type": "datetime"
        },
        {
         "name": "CODE",
         "rawType": "object",
         "type": "string"
        },
        {
         "name": "RAW DATE",
         "rawType": "object",
         "type": "string"
        },
        {
         "name": "TERCODIGO",
         "rawType": "object",
         "type": "string"
        },
        {
         "name": "YEAR",
         "rawType": "int32",
         "type": "integer"
        },
        {
         "name": "NIVNOME",
         "rawType": "object",
         "type": "string"
        },
        {
         "name": "VALUE (R$)",
         "rawType": "float64",
         "type": "float"
        }
       ],
       "conversionMethod": "pd.DataFrame",
       "ref": "210d86c1-ee02-4cc9-823b-c98863c372a4",
       "rows": [
        [
         "1980-01-01 00:00:00",
         "DFSAUSE",
         "1980-01-01T00:00:00-02:00",
         "22",
         "1980",
         "Estados",
         "8.71913e-05"
        ],
        [
         "1980-01-01 00:00:00",
         "DFSAUSE",
         "1980-01-01T00:00:00-02:00",
         "12",
         "1980",
         "Estados",
         "9.63785e-05"
        ],
        [
         "1980-01-01 00:00:00",
         "DFSAUSE",
         "1980-01-01T00:00:00-02:00",
         "24",
         "1980",
         "Estados",
         "0.0002015004"
        ],
        [
         "1980-01-01 00:00:00",
         "DFSAUSE",
         "1980-01-01T00:00:00-02:00",
         "25",
         "1980",
         "Estados",
         "0.0002066738"
        ],
        [
         "1980-01-01 00:00:00",
         "DFSAUSE",
         "1980-01-01T00:00:00-02:00",
         "51",
         "1980",
         "Estados",
         "0.0002293575"
        ],
        [
         "1980-01-01 00:00:00",
         "DFSAUSE",
         "1980-01-01T00:00:00-02:00",
         "21",
         "1980",
         "Estados",
         "0.0002345549"
        ],
        [
         "1980-01-01 00:00:00",
         "DFSAUSE",
         "1980-01-01T00:00:00-02:00",
         "52",
         "1980",
         "Estados",
         "0.0002444171"
        ],
        [
         "1980-01-01 00:00:00",
         "DFSAUSE",
         "1980-01-01T00:00:00-02:00",
         "50",
         "1980",
         "Estados",
         "0.0002470571"
        ],
        [
         "1980-01-01 00:00:00",
         "DFSAUSE",
         "1980-01-01T00:00:00-02:00",
         "15",
         "1980",
         "Estados",
         "0.0002595364"
        ],
        [
         "1980-01-01 00:00:00",
         "DFSAUSE",
         "1980-01-01T00:00:00-02:00",
         "27",
         "1980",
         "Estados",
         "0.0002997084"
        ],
        [
         "1980-01-01 00:00:00",
         "DFSAUSE",
         "1980-01-01T00:00:00-02:00",
         "32",
         "1980",
         "Estados",
         "0.0003159865"
        ],
        [
         "1980-01-01 00:00:00",
         "DFSAUSE",
         "1980-01-01T00:00:00-02:00",
         "13",
         "1980",
         "Estados",
         "0.0003501273"
        ],
        [
         "1980-01-01 00:00:00",
         "DFSAUSE",
         "1980-01-01T00:00:00-02:00",
         "28",
         "1980",
         "Estados",
         "0.0004588862"
        ],
        [
         "1980-01-01 00:00:00",
         "DFSAUSE",
         "1980-01-01T00:00:00-02:00",
         "23",
         "1980",
         "Estados",
         "0.0004678087"
        ],
        [
         "1980-01-01 00:00:00",
         "DFSAUSE",
         "1980-01-01T00:00:00-02:00",
         "41",
         "1980",
         "Estados",
         "0.0007303305"
        ],
        [
         "1980-01-01 00:00:00",
         "DFSAUSE",
         "1980-01-01T00:00:00-02:00",
         "43",
         "1980",
         "Estados",
         "0.0007986975"
        ],
        [
         "1980-01-01 00:00:00",
         "DFSAUSE",
         "1980-01-01T00:00:00-02:00",
         "26",
         "1980",
         "Estados",
         "0.0008714927"
        ],
        [
         "1980-01-01 00:00:00",
         "DFSAUSE",
         "1980-01-01T00:00:00-02:00",
         "42",
         "1980",
         "Estados",
         "0.000898564"
        ],
        [
         "1980-01-01 00:00:00",
         "DFSAUSE",
         "1980-01-01T00:00:00-02:00",
         "53",
         "1980",
         "Estados",
         "0.001401776"
        ],
        [
         "1980-01-01 00:00:00",
         "DFSAUSE",
         "1980-01-01T00:00:00-02:00",
         "29",
         "1980",
         "Estados",
         "0.0014577749"
        ],
        [
         "1980-01-01 00:00:00",
         "DFSAUSE",
         "1980-01-01T00:00:00-02:00",
         "33",
         "1980",
         "Estados",
         "0.0016101385"
        ],
        [
         "1980-01-01 00:00:00",
         "DFSAUSE",
         "1980-01-01T00:00:00-02:00",
         "31",
         "1980",
         "Estados",
         "0.0017848447"
        ],
        [
         "1980-01-01 00:00:00",
         "DFSAUSE",
         "1980-01-01T00:00:00-02:00",
         "35",
         "1980",
         "Estados",
         "0.0095247396"
        ],
        [
         "1981-01-01 00:00:00",
         "DFSAUSE",
         "1981-01-01T00:00:00-02:00",
         "12",
         "1981",
         "Estados",
         "0.0001912265"
        ],
        [
         "1981-01-01 00:00:00",
         "DFSAUSE",
         "1981-01-01T00:00:00-02:00",
         "22",
         "1981",
         "Estados",
         "0.0004250669"
        ],
        [
         "1981-01-01 00:00:00",
         "DFSAUSE",
         "1981-01-01T00:00:00-02:00",
         "21",
         "1981",
         "Estados",
         "0.0004539716"
        ],
        [
         "1981-01-01 00:00:00",
         "DFSAUSE",
         "1981-01-01T00:00:00-02:00",
         "24",
         "1981",
         "Estados",
         "0.000469824"
        ],
        [
         "1981-01-01 00:00:00",
         "DFSAUSE",
         "1981-01-01T00:00:00-02:00",
         "25",
         "1981",
         "Estados",
         "0.0005114622"
        ],
        [
         "1981-01-01 00:00:00",
         "DFSAUSE",
         "1981-01-01T00:00:00-02:00",
         "52",
         "1981",
         "Estados",
         "0.0005591142"
        ],
        [
         "1981-01-01 00:00:00",
         "DFSAUSE",
         "1981-01-01T00:00:00-02:00",
         "32",
         "1981",
         "Estados",
         "0.00056168"
        ],
        [
         "1981-01-01 00:00:00",
         "DFSAUSE",
         "1981-01-01T00:00:00-02:00",
         "15",
         "1981",
         "Estados",
         "0.0005664233"
        ],
        [
         "1981-01-01 00:00:00",
         "DFSAUSE",
         "1981-01-01T00:00:00-02:00",
         "27",
         "1981",
         "Estados",
         "0.0006223415"
        ],
        [
         "1981-01-01 00:00:00",
         "DFSAUSE",
         "1981-01-01T00:00:00-02:00",
         "51",
         "1981",
         "Estados",
         "0.0006239887"
        ],
        [
         "1981-01-01 00:00:00",
         "DFSAUSE",
         "1981-01-01T00:00:00-02:00",
         "13",
         "1981",
         "Estados",
         "0.0007182618"
        ],
        [
         "1981-01-01 00:00:00",
         "DFSAUSE",
         "1981-01-01T00:00:00-02:00",
         "23",
         "1981",
         "Estados",
         "0.0007285844"
        ],
        [
         "1981-01-01 00:00:00",
         "DFSAUSE",
         "1981-01-01T00:00:00-02:00",
         "50",
         "1981",
         "Estados",
         "0.0008152342"
        ],
        [
         "1981-01-01 00:00:00",
         "DFSAUSE",
         "1981-01-01T00:00:00-02:00",
         "28",
         "1981",
         "Estados",
         "0.0008593862"
        ],
        [
         "1981-01-01 00:00:00",
         "DFSAUSE",
         "1981-01-01T00:00:00-02:00",
         "26",
         "1981",
         "Estados",
         "0.0014266102"
        ],
        [
         "1981-01-01 00:00:00",
         "DFSAUSE",
         "1981-01-01T00:00:00-02:00",
         "42",
         "1981",
         "Estados",
         "0.0017549436"
        ],
        [
         "1981-01-01 00:00:00",
         "DFSAUSE",
         "1981-01-01T00:00:00-02:00",
         "41",
         "1981",
         "Estados",
         "0.0021019553"
        ],
        [
         "1981-01-01 00:00:00",
         "DFSAUSE",
         "1981-01-01T00:00:00-02:00",
         "43",
         "1981",
         "Estados",
         "0.0022347113"
        ],
        [
         "1981-01-01 00:00:00",
         "DFSAUSE",
         "1981-01-01T00:00:00-02:00",
         "53",
         "1981",
         "Estados",
         "0.0031593207"
        ],
        [
         "1981-01-01 00:00:00",
         "DFSAUSE",
         "1981-01-01T00:00:00-02:00",
         "33",
         "1981",
         "Estados",
         "0.0032237393"
        ],
        [
         "1981-01-01 00:00:00",
         "DFSAUSE",
         "1981-01-01T00:00:00-02:00",
         "29",
         "1981",
         "Estados",
         "0.0052216011"
        ],
        [
         "1981-01-01 00:00:00",
         "DFSAUSE",
         "1981-01-01T00:00:00-02:00",
         "31",
         "1981",
         "Estados",
         "0.0053115447"
        ],
        [
         "1981-01-01 00:00:00",
         "DFSAUSE",
         "1981-01-01T00:00:00-02:00",
         "35",
         "1981",
         "Estados",
         "0.0186471055"
        ],
        [
         "1982-01-01 00:00:00",
         "DFSAUSE",
         "1982-01-01T00:00:00-02:00",
         "14",
         "1982",
         "Estados",
         "0.0"
        ],
        [
         "1982-01-01 00:00:00",
         "DFSAUSE",
         "1982-01-01T00:00:00-02:00",
         "16",
         "1982",
         "Estados",
         "0.0"
        ],
        [
         "1982-01-01 00:00:00",
         "DFSAUSE",
         "1982-01-01T00:00:00-02:00",
         "12",
         "1982",
         "Estados",
         "0.0003738636"
        ],
        [
         "1982-01-01 00:00:00",
         "DFSAUSE",
         "1982-01-01T00:00:00-02:00",
         "21",
         "1982",
         "Estados",
         "0.0009681669"
        ]
       ],
       "shape": {
        "columns": 6,
        "rows": 554
       }
      },
      "text/html": [
       "<div>\n",
       "<style scoped>\n",
       "    .dataframe tbody tr th:only-of-type {\n",
       "        vertical-align: middle;\n",
       "    }\n",
       "\n",
       "    .dataframe tbody tr th {\n",
       "        vertical-align: top;\n",
       "    }\n",
       "\n",
       "    .dataframe thead th {\n",
       "        text-align: right;\n",
       "    }\n",
       "</style>\n",
       "<table border=\"1\" class=\"dataframe\">\n",
       "  <thead>\n",
       "    <tr style=\"text-align: right;\">\n",
       "      <th></th>\n",
       "      <th>CODE</th>\n",
       "      <th>RAW DATE</th>\n",
       "      <th>TERCODIGO</th>\n",
       "      <th>YEAR</th>\n",
       "      <th>NIVNOME</th>\n",
       "      <th>VALUE (R$)</th>\n",
       "    </tr>\n",
       "    <tr>\n",
       "      <th>DATE</th>\n",
       "      <th></th>\n",
       "      <th></th>\n",
       "      <th></th>\n",
       "      <th></th>\n",
       "      <th></th>\n",
       "      <th></th>\n",
       "    </tr>\n",
       "  </thead>\n",
       "  <tbody>\n",
       "    <tr>\n",
       "      <th>1980-01-01</th>\n",
       "      <td>DFSAUSE</td>\n",
       "      <td>1980-01-01T00:00:00-02:00</td>\n",
       "      <td>22</td>\n",
       "      <td>1980</td>\n",
       "      <td>Estados</td>\n",
       "      <td>8.719130e-05</td>\n",
       "    </tr>\n",
       "    <tr>\n",
       "      <th>1980-01-01</th>\n",
       "      <td>DFSAUSE</td>\n",
       "      <td>1980-01-01T00:00:00-02:00</td>\n",
       "      <td>12</td>\n",
       "      <td>1980</td>\n",
       "      <td>Estados</td>\n",
       "      <td>9.637850e-05</td>\n",
       "    </tr>\n",
       "    <tr>\n",
       "      <th>1980-01-01</th>\n",
       "      <td>DFSAUSE</td>\n",
       "      <td>1980-01-01T00:00:00-02:00</td>\n",
       "      <td>24</td>\n",
       "      <td>1980</td>\n",
       "      <td>Estados</td>\n",
       "      <td>2.015004e-04</td>\n",
       "    </tr>\n",
       "    <tr>\n",
       "      <th>1980-01-01</th>\n",
       "      <td>DFSAUSE</td>\n",
       "      <td>1980-01-01T00:00:00-02:00</td>\n",
       "      <td>25</td>\n",
       "      <td>1980</td>\n",
       "      <td>Estados</td>\n",
       "      <td>2.066738e-04</td>\n",
       "    </tr>\n",
       "    <tr>\n",
       "      <th>1980-01-01</th>\n",
       "      <td>DFSAUSE</td>\n",
       "      <td>1980-01-01T00:00:00-02:00</td>\n",
       "      <td>51</td>\n",
       "      <td>1980</td>\n",
       "      <td>Estados</td>\n",
       "      <td>2.293575e-04</td>\n",
       "    </tr>\n",
       "    <tr>\n",
       "      <th>...</th>\n",
       "      <td>...</td>\n",
       "      <td>...</td>\n",
       "      <td>...</td>\n",
       "      <td>...</td>\n",
       "      <td>...</td>\n",
       "      <td>...</td>\n",
       "    </tr>\n",
       "    <tr>\n",
       "      <th>2000-01-01</th>\n",
       "      <td>DFSAUSE</td>\n",
       "      <td>2000-01-01T00:00:00-02:00</td>\n",
       "      <td>29</td>\n",
       "      <td>2000</td>\n",
       "      <td>Estados</td>\n",
       "      <td>6.760827e+08</td>\n",
       "    </tr>\n",
       "    <tr>\n",
       "      <th>2000-01-01</th>\n",
       "      <td>DFSAUSE</td>\n",
       "      <td>2000-01-01T00:00:00-02:00</td>\n",
       "      <td>53</td>\n",
       "      <td>2000</td>\n",
       "      <td>Estados</td>\n",
       "      <td>8.524477e+08</td>\n",
       "    </tr>\n",
       "    <tr>\n",
       "      <th>2000-01-01</th>\n",
       "      <td>DFSAUSE</td>\n",
       "      <td>2000-01-01T00:00:00-02:00</td>\n",
       "      <td>31</td>\n",
       "      <td>2000</td>\n",
       "      <td>Estados</td>\n",
       "      <td>1.122026e+09</td>\n",
       "    </tr>\n",
       "    <tr>\n",
       "      <th>2000-01-01</th>\n",
       "      <td>DFSAUSE</td>\n",
       "      <td>2000-01-01T00:00:00-02:00</td>\n",
       "      <td>33</td>\n",
       "      <td>2000</td>\n",
       "      <td>Estados</td>\n",
       "      <td>1.153919e+09</td>\n",
       "    </tr>\n",
       "    <tr>\n",
       "      <th>2000-01-01</th>\n",
       "      <td>DFSAUSE</td>\n",
       "      <td>2000-01-01T00:00:00-02:00</td>\n",
       "      <td>35</td>\n",
       "      <td>2000</td>\n",
       "      <td>Estados</td>\n",
       "      <td>3.572238e+09</td>\n",
       "    </tr>\n",
       "  </tbody>\n",
       "</table>\n",
       "<p>554 rows × 6 columns</p>\n",
       "</div>"
      ],
      "text/plain": [
       "               CODE                   RAW DATE TERCODIGO  YEAR  NIVNOME  \\\n",
       "DATE                                                                      \n",
       "1980-01-01  DFSAUSE  1980-01-01T00:00:00-02:00        22  1980  Estados   \n",
       "1980-01-01  DFSAUSE  1980-01-01T00:00:00-02:00        12  1980  Estados   \n",
       "1980-01-01  DFSAUSE  1980-01-01T00:00:00-02:00        24  1980  Estados   \n",
       "1980-01-01  DFSAUSE  1980-01-01T00:00:00-02:00        25  1980  Estados   \n",
       "1980-01-01  DFSAUSE  1980-01-01T00:00:00-02:00        51  1980  Estados   \n",
       "...             ...                        ...       ...   ...      ...   \n",
       "2000-01-01  DFSAUSE  2000-01-01T00:00:00-02:00        29  2000  Estados   \n",
       "2000-01-01  DFSAUSE  2000-01-01T00:00:00-02:00        53  2000  Estados   \n",
       "2000-01-01  DFSAUSE  2000-01-01T00:00:00-02:00        31  2000  Estados   \n",
       "2000-01-01  DFSAUSE  2000-01-01T00:00:00-02:00        33  2000  Estados   \n",
       "2000-01-01  DFSAUSE  2000-01-01T00:00:00-02:00        35  2000  Estados   \n",
       "\n",
       "              VALUE (R$)  \n",
       "DATE                      \n",
       "1980-01-01  8.719130e-05  \n",
       "1980-01-01  9.637850e-05  \n",
       "1980-01-01  2.015004e-04  \n",
       "1980-01-01  2.066738e-04  \n",
       "1980-01-01  2.293575e-04  \n",
       "...                  ...  \n",
       "2000-01-01  6.760827e+08  \n",
       "2000-01-01  8.524477e+08  \n",
       "2000-01-01  1.122026e+09  \n",
       "2000-01-01  1.153919e+09  \n",
       "2000-01-01  3.572238e+09  \n",
       "\n",
       "[554 rows x 6 columns]"
      ]
     },
     "execution_count": 9,
     "metadata": {},
     "output_type": "execute_result"
    }
   ],
   "source": [
    "df_filtrado_1980_2000"
   ]
  },
  {
   "cell_type": "code",
   "execution_count": 10,
   "id": "c940dea3",
   "metadata": {},
   "outputs": [
    {
     "data": {
      "application/vnd.microsoft.datawrangler.viewer.v0+json": {
       "columns": [
        {
         "name": "DATE",
         "rawType": "datetime64[ns]",
         "type": "datetime"
        },
        {
         "name": "CODE",
         "rawType": "object",
         "type": "string"
        },
        {
         "name": "RAW DATE",
         "rawType": "object",
         "type": "string"
        },
        {
         "name": "TERCODIGO",
         "rawType": "object",
         "type": "string"
        },
        {
         "name": "YEAR",
         "rawType": "int32",
         "type": "integer"
        },
        {
         "name": "NIVNOME",
         "rawType": "object",
         "type": "string"
        },
        {
         "name": "VALUE (R$)",
         "rawType": "float64",
         "type": "float"
        }
       ],
       "conversionMethod": "pd.DataFrame",
       "ref": "fdb15d84-ad6e-4900-a065-1da6527236aa",
       "rows": [
        [
         "2000-01-01 00:00:00",
         "DFSAUSE",
         "2000-01-01T00:00:00-02:00",
         "21",
         "2000",
         "Estados",
         "27791551.93"
        ],
        [
         "2000-01-01 00:00:00",
         "DFSAUSE",
         "2000-01-01T00:00:00-02:00",
         "11",
         "2000",
         "Estados",
         "52737845.75"
        ],
        [
         "2000-01-01 00:00:00",
         "DFSAUSE",
         "2000-01-01T00:00:00-02:00",
         "16",
         "2000",
         "Estados",
         "60638017.58"
        ],
        [
         "2000-01-01 00:00:00",
         "DFSAUSE",
         "2000-01-01T00:00:00-02:00",
         "14",
         "2000",
         "Estados",
         "66283931.87"
        ],
        [
         "2000-01-01 00:00:00",
         "DFSAUSE",
         "2000-01-01T00:00:00-02:00",
         "17",
         "2000",
         "Estados",
         "84472003.14"
        ],
        [
         "2000-01-01 00:00:00",
         "DFSAUSE",
         "2000-01-01T00:00:00-02:00",
         "50",
         "2000",
         "Estados",
         "88667180.23"
        ],
        [
         "2000-01-01 00:00:00",
         "DFSAUSE",
         "2000-01-01T00:00:00-02:00",
         "13",
         "2000",
         "Estados",
         "107576761.11"
        ],
        [
         "2000-01-01 00:00:00",
         "DFSAUSE",
         "2000-01-01T00:00:00-02:00",
         "26",
         "2000",
         "Estados",
         "118699823.74"
        ],
        [
         "2000-01-01 00:00:00",
         "DFSAUSE",
         "2000-01-01T00:00:00-02:00",
         "51",
         "2000",
         "Estados",
         "121091551.62"
        ],
        [
         "2000-01-01 00:00:00",
         "DFSAUSE",
         "2000-01-01T00:00:00-02:00",
         "22",
         "2000",
         "Estados",
         "121306449.8"
        ],
        [
         "2000-01-01 00:00:00",
         "DFSAUSE",
         "2000-01-01T00:00:00-02:00",
         "28",
         "2000",
         "Estados",
         "150012208.05"
        ],
        [
         "2000-01-01 00:00:00",
         "DFSAUSE",
         "2000-01-01T00:00:00-02:00",
         "12",
         "2000",
         "Estados",
         "152525216.5"
        ],
        [
         "2000-01-01 00:00:00",
         "DFSAUSE",
         "2000-01-01T00:00:00-02:00",
         "25",
         "2000",
         "Estados",
         "152960044.14"
        ],
        [
         "2000-01-01 00:00:00",
         "DFSAUSE",
         "2000-01-01T00:00:00-02:00",
         "52",
         "2000",
         "Estados",
         "171674650.23"
        ],
        [
         "2000-01-01 00:00:00",
         "DFSAUSE",
         "2000-01-01T00:00:00-02:00",
         "27",
         "2000",
         "Estados",
         "237553867.48"
        ],
        [
         "2000-01-01 00:00:00",
         "DFSAUSE",
         "2000-01-01T00:00:00-02:00",
         "23",
         "2000",
         "Estados",
         "276387853.76"
        ],
        [
         "2000-01-01 00:00:00",
         "DFSAUSE",
         "2000-01-01T00:00:00-02:00",
         "32",
         "2000",
         "Estados",
         "285089910.5"
        ],
        [
         "2000-01-01 00:00:00",
         "DFSAUSE",
         "2000-01-01T00:00:00-02:00",
         "15",
         "2000",
         "Estados",
         "291300541.16"
        ],
        [
         "2000-01-01 00:00:00",
         "DFSAUSE",
         "2000-01-01T00:00:00-02:00",
         "24",
         "2000",
         "Estados",
         "293863145.2"
        ],
        [
         "2000-01-01 00:00:00",
         "DFSAUSE",
         "2000-01-01T00:00:00-02:00",
         "42",
         "2000",
         "Estados",
         "438287240.96"
        ],
        [
         "2000-01-01 00:00:00",
         "DFSAUSE",
         "2000-01-01T00:00:00-02:00",
         "43",
         "2000",
         "Estados",
         "522956179.61"
        ],
        [
         "2000-01-01 00:00:00",
         "DFSAUSE",
         "2000-01-01T00:00:00-02:00",
         "41",
         "2000",
         "Estados",
         "545465103.91"
        ],
        [
         "2000-01-01 00:00:00",
         "DFSAUSE",
         "2000-01-01T00:00:00-02:00",
         "29",
         "2000",
         "Estados",
         "676082653.87"
        ],
        [
         "2000-01-01 00:00:00",
         "DFSAUSE",
         "2000-01-01T00:00:00-02:00",
         "53",
         "2000",
         "Estados",
         "852447726.63"
        ],
        [
         "2000-01-01 00:00:00",
         "DFSAUSE",
         "2000-01-01T00:00:00-02:00",
         "31",
         "2000",
         "Estados",
         "1122025526.44"
        ],
        [
         "2000-01-01 00:00:00",
         "DFSAUSE",
         "2000-01-01T00:00:00-02:00",
         "33",
         "2000",
         "Estados",
         "1153919133.2"
        ],
        [
         "2000-01-01 00:00:00",
         "DFSAUSE",
         "2000-01-01T00:00:00-02:00",
         "35",
         "2000",
         "Estados",
         "3572237770.01"
        ],
        [
         "2001-01-01 00:00:00",
         "DFSAUSE",
         "2001-01-01T00:00:00-02:00",
         "17",
         "2001",
         "Estados",
         "62729005.82"
        ],
        [
         "2001-01-01 00:00:00",
         "DFSAUSE",
         "2001-01-01T00:00:00-02:00",
         "14",
         "2001",
         "Estados",
         "78282848.96"
        ],
        [
         "2001-01-01 00:00:00",
         "DFSAUSE",
         "2001-01-01T00:00:00-02:00",
         "16",
         "2001",
         "Estados",
         "109209745.51"
        ],
        [
         "2001-01-01 00:00:00",
         "DFSAUSE",
         "2001-01-01T00:00:00-02:00",
         "50",
         "2001",
         "Estados",
         "125852665.56"
        ],
        [
         "2001-01-01 00:00:00",
         "DFSAUSE",
         "2001-01-01T00:00:00-02:00",
         "11",
         "2001",
         "Estados",
         "128870298.25"
        ],
        [
         "2001-01-01 00:00:00",
         "DFSAUSE",
         "2001-01-01T00:00:00-02:00",
         "51",
         "2001",
         "Estados",
         "136523463.78"
        ],
        [
         "2001-01-01 00:00:00",
         "DFSAUSE",
         "2001-01-01T00:00:00-02:00",
         "22",
         "2001",
         "Estados",
         "150691271.0"
        ],
        [
         "2001-01-01 00:00:00",
         "DFSAUSE",
         "2001-01-01T00:00:00-02:00",
         "12",
         "2001",
         "Estados",
         "161937113.32"
        ],
        [
         "2001-01-01 00:00:00",
         "DFSAUSE",
         "2001-01-01T00:00:00-02:00",
         "28",
         "2001",
         "Estados",
         "166685887.01"
        ],
        [
         "2001-01-01 00:00:00",
         "DFSAUSE",
         "2001-01-01T00:00:00-02:00",
         "27",
         "2001",
         "Estados",
         "174302073.84"
        ],
        [
         "2001-01-01 00:00:00",
         "DFSAUSE",
         "2001-01-01T00:00:00-02:00",
         "21",
         "2001",
         "Estados",
         "232404395.65"
        ],
        [
         "2001-01-01 00:00:00",
         "DFSAUSE",
         "2001-01-01T00:00:00-02:00",
         "24",
         "2001",
         "Estados",
         "248257857.17"
        ],
        [
         "2001-01-01 00:00:00",
         "DFSAUSE",
         "2001-01-01T00:00:00-02:00",
         "32",
         "2001",
         "Estados",
         "323490923.0"
        ],
        [
         "2001-01-01 00:00:00",
         "DFSAUSE",
         "2001-01-01T00:00:00-02:00",
         "25",
         "2001",
         "Estados",
         "347986081.36"
        ],
        [
         "2001-01-01 00:00:00",
         "DFSAUSE",
         "2001-01-01T00:00:00-02:00",
         "15",
         "2001",
         "Estados",
         "384741343.6"
        ],
        [
         "2001-01-01 00:00:00",
         "DFSAUSE",
         "2001-01-01T00:00:00-02:00",
         "42",
         "2001",
         "Estados",
         "425928538.06"
        ],
        [
         "2001-01-01 00:00:00",
         "DFSAUSE",
         "2001-01-01T00:00:00-02:00",
         "52",
         "2001",
         "Estados",
         "457018005.93"
        ],
        [
         "2001-01-01 00:00:00",
         "DFSAUSE",
         "2001-01-01T00:00:00-02:00",
         "13",
         "2001",
         "Estados",
         "528517643.0"
        ],
        [
         "2001-01-01 00:00:00",
         "DFSAUSE",
         "2001-01-01T00:00:00-02:00",
         "23",
         "2001",
         "Estados",
         "584850000.0"
        ],
        [
         "2001-01-01 00:00:00",
         "DFSAUSE",
         "2001-01-01T00:00:00-02:00",
         "26",
         "2001",
         "Estados",
         "591646582.45"
        ],
        [
         "2001-01-01 00:00:00",
         "DFSAUSE",
         "2001-01-01T00:00:00-02:00",
         "41",
         "2001",
         "Estados",
         "601211909.0"
        ],
        [
         "2001-01-01 00:00:00",
         "DFSAUSE",
         "2001-01-01T00:00:00-02:00",
         "53",
         "2001",
         "Estados",
         "870413992.9"
        ],
        [
         "2001-01-01 00:00:00",
         "DFSAUSE",
         "2001-01-01T00:00:00-02:00",
         "43",
         "2001",
         "Estados",
         "881312143.82"
        ]
       ],
       "shape": {
        "columns": 6,
        "rows": 648
       }
      },
      "text/html": [
       "<div>\n",
       "<style scoped>\n",
       "    .dataframe tbody tr th:only-of-type {\n",
       "        vertical-align: middle;\n",
       "    }\n",
       "\n",
       "    .dataframe tbody tr th {\n",
       "        vertical-align: top;\n",
       "    }\n",
       "\n",
       "    .dataframe thead th {\n",
       "        text-align: right;\n",
       "    }\n",
       "</style>\n",
       "<table border=\"1\" class=\"dataframe\">\n",
       "  <thead>\n",
       "    <tr style=\"text-align: right;\">\n",
       "      <th></th>\n",
       "      <th>CODE</th>\n",
       "      <th>RAW DATE</th>\n",
       "      <th>TERCODIGO</th>\n",
       "      <th>YEAR</th>\n",
       "      <th>NIVNOME</th>\n",
       "      <th>VALUE (R$)</th>\n",
       "    </tr>\n",
       "    <tr>\n",
       "      <th>DATE</th>\n",
       "      <th></th>\n",
       "      <th></th>\n",
       "      <th></th>\n",
       "      <th></th>\n",
       "      <th></th>\n",
       "      <th></th>\n",
       "    </tr>\n",
       "  </thead>\n",
       "  <tbody>\n",
       "    <tr>\n",
       "      <th>2000-01-01</th>\n",
       "      <td>DFSAUSE</td>\n",
       "      <td>2000-01-01T00:00:00-02:00</td>\n",
       "      <td>21</td>\n",
       "      <td>2000</td>\n",
       "      <td>Estados</td>\n",
       "      <td>2.779155e+07</td>\n",
       "    </tr>\n",
       "    <tr>\n",
       "      <th>2000-01-01</th>\n",
       "      <td>DFSAUSE</td>\n",
       "      <td>2000-01-01T00:00:00-02:00</td>\n",
       "      <td>11</td>\n",
       "      <td>2000</td>\n",
       "      <td>Estados</td>\n",
       "      <td>5.273785e+07</td>\n",
       "    </tr>\n",
       "    <tr>\n",
       "      <th>2000-01-01</th>\n",
       "      <td>DFSAUSE</td>\n",
       "      <td>2000-01-01T00:00:00-02:00</td>\n",
       "      <td>16</td>\n",
       "      <td>2000</td>\n",
       "      <td>Estados</td>\n",
       "      <td>6.063802e+07</td>\n",
       "    </tr>\n",
       "    <tr>\n",
       "      <th>2000-01-01</th>\n",
       "      <td>DFSAUSE</td>\n",
       "      <td>2000-01-01T00:00:00-02:00</td>\n",
       "      <td>14</td>\n",
       "      <td>2000</td>\n",
       "      <td>Estados</td>\n",
       "      <td>6.628393e+07</td>\n",
       "    </tr>\n",
       "    <tr>\n",
       "      <th>2000-01-01</th>\n",
       "      <td>DFSAUSE</td>\n",
       "      <td>2000-01-01T00:00:00-02:00</td>\n",
       "      <td>17</td>\n",
       "      <td>2000</td>\n",
       "      <td>Estados</td>\n",
       "      <td>8.447200e+07</td>\n",
       "    </tr>\n",
       "    <tr>\n",
       "      <th>...</th>\n",
       "      <td>...</td>\n",
       "      <td>...</td>\n",
       "      <td>...</td>\n",
       "      <td>...</td>\n",
       "      <td>...</td>\n",
       "      <td>...</td>\n",
       "    </tr>\n",
       "    <tr>\n",
       "      <th>2023-01-01</th>\n",
       "      <td>DFSAUSE</td>\n",
       "      <td>2023-01-01T00:00:00-03:00</td>\n",
       "      <td>26</td>\n",
       "      <td>2023</td>\n",
       "      <td>Estados</td>\n",
       "      <td>8.599003e+09</td>\n",
       "    </tr>\n",
       "    <tr>\n",
       "      <th>2023-01-01</th>\n",
       "      <td>DFSAUSE</td>\n",
       "      <td>2023-01-01T00:00:00-03:00</td>\n",
       "      <td>43</td>\n",
       "      <td>2023</td>\n",
       "      <td>Estados</td>\n",
       "      <td>9.538558e+09</td>\n",
       "    </tr>\n",
       "    <tr>\n",
       "      <th>2023-01-01</th>\n",
       "      <td>DFSAUSE</td>\n",
       "      <td>2023-01-01T00:00:00-03:00</td>\n",
       "      <td>29</td>\n",
       "      <td>2023</td>\n",
       "      <td>Estados</td>\n",
       "      <td>1.252874e+10</td>\n",
       "    </tr>\n",
       "    <tr>\n",
       "      <th>2023-01-01</th>\n",
       "      <td>DFSAUSE</td>\n",
       "      <td>2023-01-01T00:00:00-03:00</td>\n",
       "      <td>31</td>\n",
       "      <td>2023</td>\n",
       "      <td>Estados</td>\n",
       "      <td>1.359540e+10</td>\n",
       "    </tr>\n",
       "    <tr>\n",
       "      <th>2023-01-01</th>\n",
       "      <td>DFSAUSE</td>\n",
       "      <td>2023-01-01T00:00:00-03:00</td>\n",
       "      <td>35</td>\n",
       "      <td>2023</td>\n",
       "      <td>Estados</td>\n",
       "      <td>3.393615e+10</td>\n",
       "    </tr>\n",
       "  </tbody>\n",
       "</table>\n",
       "<p>648 rows × 6 columns</p>\n",
       "</div>"
      ],
      "text/plain": [
       "               CODE                   RAW DATE TERCODIGO  YEAR  NIVNOME  \\\n",
       "DATE                                                                      \n",
       "2000-01-01  DFSAUSE  2000-01-01T00:00:00-02:00        21  2000  Estados   \n",
       "2000-01-01  DFSAUSE  2000-01-01T00:00:00-02:00        11  2000  Estados   \n",
       "2000-01-01  DFSAUSE  2000-01-01T00:00:00-02:00        16  2000  Estados   \n",
       "2000-01-01  DFSAUSE  2000-01-01T00:00:00-02:00        14  2000  Estados   \n",
       "2000-01-01  DFSAUSE  2000-01-01T00:00:00-02:00        17  2000  Estados   \n",
       "...             ...                        ...       ...   ...      ...   \n",
       "2023-01-01  DFSAUSE  2023-01-01T00:00:00-03:00        26  2023  Estados   \n",
       "2023-01-01  DFSAUSE  2023-01-01T00:00:00-03:00        43  2023  Estados   \n",
       "2023-01-01  DFSAUSE  2023-01-01T00:00:00-03:00        29  2023  Estados   \n",
       "2023-01-01  DFSAUSE  2023-01-01T00:00:00-03:00        31  2023  Estados   \n",
       "2023-01-01  DFSAUSE  2023-01-01T00:00:00-03:00        35  2023  Estados   \n",
       "\n",
       "              VALUE (R$)  \n",
       "DATE                      \n",
       "2000-01-01  2.779155e+07  \n",
       "2000-01-01  5.273785e+07  \n",
       "2000-01-01  6.063802e+07  \n",
       "2000-01-01  6.628393e+07  \n",
       "2000-01-01  8.447200e+07  \n",
       "...                  ...  \n",
       "2023-01-01  8.599003e+09  \n",
       "2023-01-01  9.538558e+09  \n",
       "2023-01-01  1.252874e+10  \n",
       "2023-01-01  1.359540e+10  \n",
       "2023-01-01  3.393615e+10  \n",
       "\n",
       "[648 rows x 6 columns]"
      ]
     },
     "execution_count": 10,
     "metadata": {},
     "output_type": "execute_result"
    }
   ],
   "source": [
    "df_filtrado_2000_atual"
   ]
  }
 ],
 "metadata": {
  "kernelspec": {
   "display_name": "Python 3",
   "language": "python",
   "name": "python3"
  },
  "language_info": {
   "codemirror_mode": {
    "name": "ipython",
    "version": 3
   },
   "file_extension": ".py",
   "mimetype": "text/x-python",
   "name": "python",
   "nbconvert_exporter": "python",
   "pygments_lexer": "ipython3",
   "version": "3.12.0"
  }
 },
 "nbformat": 4,
 "nbformat_minor": 5
}
