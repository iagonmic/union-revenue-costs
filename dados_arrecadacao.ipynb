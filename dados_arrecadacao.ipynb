{
 "cells": [
  {
   "cell_type": "code",
   "execution_count": 1,
   "id": "0bd4710f",
   "metadata": {},
   "outputs": [],
   "source": [
    "import ipeadatapy as ipea\n",
    "import pandas as pd\n",
    "\n",
    "df = ipea.list_series()"
   ]
  },
  {
   "cell_type": "code",
   "execution_count": 8,
   "id": "57481916",
   "metadata": {},
   "outputs": [
    {
     "data": {
      "application/vnd.microsoft.datawrangler.viewer.v0+json": {
       "columns": [
        {
         "name": "index",
         "rawType": "object",
         "type": "string"
        },
        {
         "name": "CODE",
         "rawType": "object",
         "type": "string"
        },
        {
         "name": "NAME",
         "rawType": "object",
         "type": "string"
        }
       ],
       "conversionMethod": "pd.DataFrame",
       "ref": "4a69dee3-0ad5-4fa9-9bdd-92d77e6db17d",
       "rows": [
        [
         "657",
         "IPTUCH",
         "Arrecadação do IPTU incluindo receitas da dívida ativa e de multas e juros - INATIVA"
        ],
        [
         "658",
         "ISSCH",
         "Arrecadação do ISS incluindo receitas da dívida ativa, multas e juros - INATIVA"
        ],
        [
         "659",
         "ITBICH",
         "Arrecadação do ITBI incluindo receitas da dívida ativa, multas e juros - INATIVA"
        ],
        [
         "660",
         "MPAS12_ARRBT12",
         "Previdência Social - fluxo de caixa da previdência - arrecadação bruta"
        ],
        [
         "661",
         "MPAS12_ARRLIQ12",
         "Previdência Social - fluxo de caixa da previdência - arrecadação líquida"
        ],
        [
         "670",
         "RECPROPCH",
         "Arrecadação total dos impostos municipais (IPTU, ITBI e ISS), incluindo dívida ativa, multas e juros - INATIVA"
        ],
        [
         "703",
         "SRF12_TOTGER12",
         "Arrecadação das receitas federais - receita bruta"
        ]
       ],
       "shape": {
        "columns": 2,
        "rows": 7
       }
      },
      "text/html": [
       "<div>\n",
       "<style scoped>\n",
       "    .dataframe tbody tr th:only-of-type {\n",
       "        vertical-align: middle;\n",
       "    }\n",
       "\n",
       "    .dataframe tbody tr th {\n",
       "        vertical-align: top;\n",
       "    }\n",
       "\n",
       "    .dataframe thead th {\n",
       "        text-align: right;\n",
       "    }\n",
       "</style>\n",
       "<table border=\"1\" class=\"dataframe\">\n",
       "  <thead>\n",
       "    <tr style=\"text-align: right;\">\n",
       "      <th></th>\n",
       "      <th>CODE</th>\n",
       "      <th>NAME</th>\n",
       "    </tr>\n",
       "  </thead>\n",
       "  <tbody>\n",
       "    <tr>\n",
       "      <th>657</th>\n",
       "      <td>IPTUCH</td>\n",
       "      <td>Arrecadação do IPTU incluindo receitas da dívi...</td>\n",
       "    </tr>\n",
       "    <tr>\n",
       "      <th>658</th>\n",
       "      <td>ISSCH</td>\n",
       "      <td>Arrecadação do ISS incluindo receitas da dívid...</td>\n",
       "    </tr>\n",
       "    <tr>\n",
       "      <th>659</th>\n",
       "      <td>ITBICH</td>\n",
       "      <td>Arrecadação do ITBI incluindo receitas da dívi...</td>\n",
       "    </tr>\n",
       "    <tr>\n",
       "      <th>660</th>\n",
       "      <td>MPAS12_ARRBT12</td>\n",
       "      <td>Previdência Social - fluxo de caixa da previdê...</td>\n",
       "    </tr>\n",
       "    <tr>\n",
       "      <th>661</th>\n",
       "      <td>MPAS12_ARRLIQ12</td>\n",
       "      <td>Previdência Social - fluxo de caixa da previdê...</td>\n",
       "    </tr>\n",
       "    <tr>\n",
       "      <th>670</th>\n",
       "      <td>RECPROPCH</td>\n",
       "      <td>Arrecadação total dos impostos municipais (IPT...</td>\n",
       "    </tr>\n",
       "    <tr>\n",
       "      <th>703</th>\n",
       "      <td>SRF12_TOTGER12</td>\n",
       "      <td>Arrecadação das receitas federais - receita bruta</td>\n",
       "    </tr>\n",
       "  </tbody>\n",
       "</table>\n",
       "</div>"
      ],
      "text/plain": [
       "                CODE                                               NAME\n",
       "657           IPTUCH  Arrecadação do IPTU incluindo receitas da dívi...\n",
       "658            ISSCH  Arrecadação do ISS incluindo receitas da dívid...\n",
       "659           ITBICH  Arrecadação do ITBI incluindo receitas da dívi...\n",
       "660   MPAS12_ARRBT12  Previdência Social - fluxo de caixa da previdê...\n",
       "661  MPAS12_ARRLIQ12  Previdência Social - fluxo de caixa da previdê...\n",
       "670        RECPROPCH  Arrecadação total dos impostos municipais (IPT...\n",
       "703   SRF12_TOTGER12  Arrecadação das receitas federais - receita bruta"
      ]
     },
     "execution_count": 8,
     "metadata": {},
     "output_type": "execute_result"
    }
   ],
   "source": [
    "df\n",
    "\n",
    "df_filtrado = df[df['NAME'].str.contains('arrecadação', case=False, na=False)]\n",
    "\n",
    "df_filtrado\n"
   ]
  },
  {
   "cell_type": "code",
   "execution_count": 3,
   "id": "58d135ab",
   "metadata": {},
   "outputs": [
    {
     "data": {
      "application/vnd.microsoft.datawrangler.viewer.v0+json": {
       "columns": [
        {
         "name": "DATE",
         "rawType": "datetime64[ns]",
         "type": "datetime"
        },
        {
         "name": "code",
         "rawType": "object",
         "type": "string"
        },
        {
         "name": "raw_date",
         "rawType": "object",
         "type": "string"
        },
        {
         "name": "day",
         "rawType": "int32",
         "type": "integer"
        },
        {
         "name": "month",
         "rawType": "int32",
         "type": "integer"
        },
        {
         "name": "year",
         "rawType": "int32",
         "type": "integer"
        },
        {
         "name": "real_value",
         "rawType": "float64",
         "type": "float"
        }
       ],
       "conversionMethod": "pd.DataFrame",
       "ref": "938cc902-0cf2-41b1-b60f-95af119767c2",
       "rows": [
        [
         "1993-01-01 00:00:00",
         "SRF12_TOTGER12",
         "1993-01-01T00:00:00-02:00",
         "1",
         "1",
         "1993",
         "30595275.77"
        ],
        [
         "1993-02-01 00:00:00",
         "SRF12_TOTGER12",
         "1993-02-01T00:00:00-02:00",
         "1",
         "2",
         "1993",
         "34654900.36"
        ],
        [
         "1993-03-01 00:00:00",
         "SRF12_TOTGER12",
         "1993-03-01T00:00:00-03:00",
         "1",
         "3",
         "1993",
         "41583958.17"
        ],
        [
         "1993-04-01 00:00:00",
         "SRF12_TOTGER12",
         "1993-04-01T00:00:00-03:00",
         "1",
         "4",
         "1993",
         "58191861.6"
        ],
        [
         "1993-05-01 00:00:00",
         "SRF12_TOTGER12",
         "1993-05-01T00:00:00-03:00",
         "1",
         "5",
         "1993",
         "87176277.02"
        ],
        [
         "1993-06-01 00:00:00",
         "SRF12_TOTGER12",
         "1993-06-01T00:00:00-03:00",
         "1",
         "6",
         "1993",
         "71669104.59"
        ],
        [
         "1993-07-01 00:00:00",
         "SRF12_TOTGER12",
         "1993-07-01T00:00:00-03:00",
         "1",
         "7",
         "1993",
         "88516264.59"
        ],
        [
         "1993-08-01 00:00:00",
         "SRF12_TOTGER12",
         "1993-08-01T00:00:00-03:00",
         "1",
         "8",
         "1993",
         "111834519.64"
        ],
        [
         "1993-09-01 00:00:00",
         "SRF12_TOTGER12",
         "1993-09-01T00:00:00-03:00",
         "1",
         "9",
         "1993",
         "174590941.94"
        ],
        [
         "1993-10-01 00:00:00",
         "SRF12_TOTGER12",
         "1993-10-01T00:00:00-03:00",
         "1",
         "10",
         "1993",
         "214582880.82"
        ],
        [
         "1993-11-01 00:00:00",
         "SRF12_TOTGER12",
         "1993-11-01T00:00:00-03:00",
         "1",
         "11",
         "1993",
         "338282243.57"
        ],
        [
         "1993-12-01 00:00:00",
         "SRF12_TOTGER12",
         "1993-12-01T00:00:00-02:00",
         "1",
         "12",
         "1993",
         "479373082.18"
        ],
        [
         "1994-01-01 00:00:00",
         "SRF12_TOTGER12",
         "1994-01-01T00:00:00-02:00",
         "1",
         "1",
         "1994",
         "4977682374.6"
        ],
        [
         "1994-02-01 00:00:00",
         "SRF12_TOTGER12",
         "1994-02-01T00:00:00-02:00",
         "1",
         "2",
         "1994",
         "4549791139.68"
        ],
        [
         "1994-03-01 00:00:00",
         "SRF12_TOTGER12",
         "1994-03-01T00:00:00-03:00",
         "1",
         "3",
         "1994",
         "4545002330.96"
        ],
        [
         "1994-04-01 00:00:00",
         "SRF12_TOTGER12",
         "1994-04-01T00:00:00-03:00",
         "1",
         "4",
         "1994",
         "5333537642.42"
        ],
        [
         "1994-05-01 00:00:00",
         "SRF12_TOTGER12",
         "1994-05-01T00:00:00-03:00",
         "1",
         "5",
         "1994",
         "4889272792.14"
        ],
        [
         "1994-06-01 00:00:00",
         "SRF12_TOTGER12",
         "1994-06-01T00:00:00-03:00",
         "1",
         "6",
         "1994",
         "5060521261.12"
        ],
        [
         "1994-07-01 00:00:00",
         "SRF12_TOTGER12",
         "1994-07-01T00:00:00-03:00",
         "1",
         "7",
         "1994",
         "4681599318.0"
        ],
        [
         "1994-08-01 00:00:00",
         "SRF12_TOTGER12",
         "1994-08-01T00:00:00-03:00",
         "1",
         "8",
         "1994",
         "5500268505.0"
        ],
        [
         "1994-09-01 00:00:00",
         "SRF12_TOTGER12",
         "1994-09-01T00:00:00-03:00",
         "1",
         "9",
         "1994",
         "5798960961.0"
        ],
        [
         "1994-10-01 00:00:00",
         "SRF12_TOTGER12",
         "1994-10-01T00:00:00-03:00",
         "1",
         "10",
         "1994",
         "5695911963.0"
        ],
        [
         "1994-11-01 00:00:00",
         "SRF12_TOTGER12",
         "1994-11-01T00:00:00-03:00",
         "1",
         "11",
         "1994",
         "5894512098.0"
        ],
        [
         "1994-12-01 00:00:00",
         "SRF12_TOTGER12",
         "1994-12-01T00:00:00-02:00",
         "1",
         "12",
         "1994",
         "7393440136.0"
        ],
        [
         "1995-01-01 00:00:00",
         "SRF12_TOTGER12",
         "1995-01-01T00:00:00-02:00",
         "1",
         "1",
         "1995",
         "8960995765.0"
        ],
        [
         "1995-02-01 00:00:00",
         "SRF12_TOTGER12",
         "1995-02-01T00:00:00-02:00",
         "1",
         "2",
         "1995",
         "8310605587.0"
        ],
        [
         "1995-03-01 00:00:00",
         "SRF12_TOTGER12",
         "1995-03-01T00:00:00-03:00",
         "1",
         "3",
         "1995",
         "9647731438.09"
        ],
        [
         "1995-04-01 00:00:00",
         "SRF12_TOTGER12",
         "1995-04-01T00:00:00-03:00",
         "1",
         "4",
         "1995",
         "8944898100.0"
        ],
        [
         "1995-05-01 00:00:00",
         "SRF12_TOTGER12",
         "1995-05-01T00:00:00-03:00",
         "1",
         "5",
         "1995",
         "10882205734.0"
        ],
        [
         "1995-06-01 00:00:00",
         "SRF12_TOTGER12",
         "1995-06-01T00:00:00-03:00",
         "1",
         "6",
         "1995",
         "10214375221.91"
        ],
        [
         "1995-07-01 00:00:00",
         "SRF12_TOTGER12",
         "1995-07-01T00:00:00-03:00",
         "1",
         "7",
         "1995",
         "9579193639.0"
        ],
        [
         "1995-08-01 00:00:00",
         "SRF12_TOTGER12",
         "1995-08-01T00:00:00-03:00",
         "1",
         "8",
         "1995",
         "9779320748.0"
        ],
        [
         "1995-09-01 00:00:00",
         "SRF12_TOTGER12",
         "1995-09-01T00:00:00-03:00",
         "1",
         "9",
         "1995",
         "9818369417.0"
        ],
        [
         "1995-10-01 00:00:00",
         "SRF12_TOTGER12",
         "1995-10-01T00:00:00-03:00",
         "1",
         "10",
         "1995",
         "10143272805.0"
        ],
        [
         "1995-11-01 00:00:00",
         "SRF12_TOTGER12",
         "1995-11-01T00:00:00-03:00",
         "1",
         "11",
         "1995",
         "10056498797.0"
        ],
        [
         "1995-12-01 00:00:00",
         "SRF12_TOTGER12",
         "1995-12-01T00:00:00-02:00",
         "1",
         "12",
         "1995",
         "12805524739.0"
        ],
        [
         "1996-01-01 00:00:00",
         "SRF12_TOTGER12",
         "1996-01-01T00:00:00-02:00",
         "1",
         "1",
         "1996",
         "10129467040.0"
        ],
        [
         "1996-02-01 00:00:00",
         "SRF12_TOTGER12",
         "1996-02-01T00:00:00-02:00",
         "1",
         "2",
         "1996",
         "9509487743.0"
        ],
        [
         "1996-03-01 00:00:00",
         "SRF12_TOTGER12",
         "1996-03-01T00:00:00-03:00",
         "1",
         "3",
         "1996",
         "13273237485.0"
        ],
        [
         "1996-04-01 00:00:00",
         "SRF12_TOTGER12",
         "1996-04-01T00:00:00-03:00",
         "1",
         "4",
         "1996",
         "10344858180.0"
        ],
        [
         "1996-05-01 00:00:00",
         "SRF12_TOTGER12",
         "1996-05-01T00:00:00-03:00",
         "1",
         "5",
         "1996",
         "10689042312.0"
        ],
        [
         "1996-06-01 00:00:00",
         "SRF12_TOTGER12",
         "1996-06-01T00:00:00-03:00",
         "1",
         "6",
         "1996",
         "10617985366.0"
        ],
        [
         "1996-07-01 00:00:00",
         "SRF12_TOTGER12",
         "1996-07-01T00:00:00-03:00",
         "1",
         "7",
         "1996",
         "11330443826.0"
        ],
        [
         "1996-08-01 00:00:00",
         "SRF12_TOTGER12",
         "1996-08-01T00:00:00-03:00",
         "1",
         "8",
         "1996",
         "10987567738.4"
        ],
        [
         "1996-09-01 00:00:00",
         "SRF12_TOTGER12",
         "1996-09-01T00:00:00-03:00",
         "1",
         "9",
         "1996",
         "11609825661.0"
        ],
        [
         "1996-10-01 00:00:00",
         "SRF12_TOTGER12",
         "1996-10-01T00:00:00-03:00",
         "1",
         "10",
         "1996",
         "11617124560.0"
        ],
        [
         "1996-11-01 00:00:00",
         "SRF12_TOTGER12",
         "1996-11-01T00:00:00-03:00",
         "1",
         "11",
         "1996",
         "11576042370.0"
        ],
        [
         "1996-12-01 00:00:00",
         "SRF12_TOTGER12",
         "1996-12-01T00:00:00-02:00",
         "1",
         "12",
         "1996",
         "17097201861.0"
        ],
        [
         "1997-01-01 00:00:00",
         "SRF12_TOTGER12",
         "1997-01-01T00:00:00-02:00",
         "1",
         "1",
         "1997",
         "12185084717.0"
        ],
        [
         "1997-02-01 00:00:00",
         "SRF12_TOTGER12",
         "1997-02-01T00:00:00-02:00",
         "1",
         "2",
         "1997",
         "11598720458.0"
        ]
       ],
       "shape": {
        "columns": 6,
        "rows": 384
       }
      },
      "text/html": [
       "<div>\n",
       "<style scoped>\n",
       "    .dataframe tbody tr th:only-of-type {\n",
       "        vertical-align: middle;\n",
       "    }\n",
       "\n",
       "    .dataframe tbody tr th {\n",
       "        vertical-align: top;\n",
       "    }\n",
       "\n",
       "    .dataframe thead th {\n",
       "        text-align: right;\n",
       "    }\n",
       "</style>\n",
       "<table border=\"1\" class=\"dataframe\">\n",
       "  <thead>\n",
       "    <tr style=\"text-align: right;\">\n",
       "      <th></th>\n",
       "      <th>code</th>\n",
       "      <th>raw_date</th>\n",
       "      <th>day</th>\n",
       "      <th>month</th>\n",
       "      <th>year</th>\n",
       "      <th>real_value</th>\n",
       "    </tr>\n",
       "    <tr>\n",
       "      <th>DATE</th>\n",
       "      <th></th>\n",
       "      <th></th>\n",
       "      <th></th>\n",
       "      <th></th>\n",
       "      <th></th>\n",
       "      <th></th>\n",
       "    </tr>\n",
       "  </thead>\n",
       "  <tbody>\n",
       "    <tr>\n",
       "      <th>1993-01-01</th>\n",
       "      <td>SRF12_TOTGER12</td>\n",
       "      <td>1993-01-01T00:00:00-02:00</td>\n",
       "      <td>1</td>\n",
       "      <td>1</td>\n",
       "      <td>1993</td>\n",
       "      <td>3.059528e+07</td>\n",
       "    </tr>\n",
       "    <tr>\n",
       "      <th>1993-02-01</th>\n",
       "      <td>SRF12_TOTGER12</td>\n",
       "      <td>1993-02-01T00:00:00-02:00</td>\n",
       "      <td>1</td>\n",
       "      <td>2</td>\n",
       "      <td>1993</td>\n",
       "      <td>3.465490e+07</td>\n",
       "    </tr>\n",
       "    <tr>\n",
       "      <th>1993-03-01</th>\n",
       "      <td>SRF12_TOTGER12</td>\n",
       "      <td>1993-03-01T00:00:00-03:00</td>\n",
       "      <td>1</td>\n",
       "      <td>3</td>\n",
       "      <td>1993</td>\n",
       "      <td>4.158396e+07</td>\n",
       "    </tr>\n",
       "    <tr>\n",
       "      <th>1993-04-01</th>\n",
       "      <td>SRF12_TOTGER12</td>\n",
       "      <td>1993-04-01T00:00:00-03:00</td>\n",
       "      <td>1</td>\n",
       "      <td>4</td>\n",
       "      <td>1993</td>\n",
       "      <td>5.819186e+07</td>\n",
       "    </tr>\n",
       "    <tr>\n",
       "      <th>1993-05-01</th>\n",
       "      <td>SRF12_TOTGER12</td>\n",
       "      <td>1993-05-01T00:00:00-03:00</td>\n",
       "      <td>1</td>\n",
       "      <td>5</td>\n",
       "      <td>1993</td>\n",
       "      <td>8.717628e+07</td>\n",
       "    </tr>\n",
       "    <tr>\n",
       "      <th>...</th>\n",
       "      <td>...</td>\n",
       "      <td>...</td>\n",
       "      <td>...</td>\n",
       "      <td>...</td>\n",
       "      <td>...</td>\n",
       "      <td>...</td>\n",
       "    </tr>\n",
       "    <tr>\n",
       "      <th>2024-08-01</th>\n",
       "      <td>SRF12_TOTGER12</td>\n",
       "      <td>2024-08-01T00:00:00-03:00</td>\n",
       "      <td>1</td>\n",
       "      <td>8</td>\n",
       "      <td>2024</td>\n",
       "      <td>2.016221e+11</td>\n",
       "    </tr>\n",
       "    <tr>\n",
       "      <th>2024-09-01</th>\n",
       "      <td>SRF12_TOTGER12</td>\n",
       "      <td>2024-09-01T00:00:00-03:00</td>\n",
       "      <td>1</td>\n",
       "      <td>9</td>\n",
       "      <td>2024</td>\n",
       "      <td>2.031687e+11</td>\n",
       "    </tr>\n",
       "    <tr>\n",
       "      <th>2024-10-01</th>\n",
       "      <td>SRF12_TOTGER12</td>\n",
       "      <td>2024-10-01T00:00:00-03:00</td>\n",
       "      <td>1</td>\n",
       "      <td>10</td>\n",
       "      <td>2024</td>\n",
       "      <td>2.479203e+11</td>\n",
       "    </tr>\n",
       "    <tr>\n",
       "      <th>2024-11-01</th>\n",
       "      <td>SRF12_TOTGER12</td>\n",
       "      <td>2024-11-01T00:00:00-03:00</td>\n",
       "      <td>1</td>\n",
       "      <td>11</td>\n",
       "      <td>2024</td>\n",
       "      <td>2.092176e+11</td>\n",
       "    </tr>\n",
       "    <tr>\n",
       "      <th>2024-12-01</th>\n",
       "      <td>SRF12_TOTGER12</td>\n",
       "      <td>2024-12-01T00:00:00-03:00</td>\n",
       "      <td>1</td>\n",
       "      <td>12</td>\n",
       "      <td>2024</td>\n",
       "      <td>2.612650e+11</td>\n",
       "    </tr>\n",
       "  </tbody>\n",
       "</table>\n",
       "<p>384 rows × 6 columns</p>\n",
       "</div>"
      ],
      "text/plain": [
       "                      code                   raw_date  day  month  year  \\\n",
       "DATE                                                                      \n",
       "1993-01-01  SRF12_TOTGER12  1993-01-01T00:00:00-02:00    1      1  1993   \n",
       "1993-02-01  SRF12_TOTGER12  1993-02-01T00:00:00-02:00    1      2  1993   \n",
       "1993-03-01  SRF12_TOTGER12  1993-03-01T00:00:00-03:00    1      3  1993   \n",
       "1993-04-01  SRF12_TOTGER12  1993-04-01T00:00:00-03:00    1      4  1993   \n",
       "1993-05-01  SRF12_TOTGER12  1993-05-01T00:00:00-03:00    1      5  1993   \n",
       "...                    ...                        ...  ...    ...   ...   \n",
       "2024-08-01  SRF12_TOTGER12  2024-08-01T00:00:00-03:00    1      8  2024   \n",
       "2024-09-01  SRF12_TOTGER12  2024-09-01T00:00:00-03:00    1      9  2024   \n",
       "2024-10-01  SRF12_TOTGER12  2024-10-01T00:00:00-03:00    1     10  2024   \n",
       "2024-11-01  SRF12_TOTGER12  2024-11-01T00:00:00-03:00    1     11  2024   \n",
       "2024-12-01  SRF12_TOTGER12  2024-12-01T00:00:00-03:00    1     12  2024   \n",
       "\n",
       "              real_value  \n",
       "DATE                      \n",
       "1993-01-01  3.059528e+07  \n",
       "1993-02-01  3.465490e+07  \n",
       "1993-03-01  4.158396e+07  \n",
       "1993-04-01  5.819186e+07  \n",
       "1993-05-01  8.717628e+07  \n",
       "...                  ...  \n",
       "2024-08-01  2.016221e+11  \n",
       "2024-09-01  2.031687e+11  \n",
       "2024-10-01  2.479203e+11  \n",
       "2024-11-01  2.092176e+11  \n",
       "2024-12-01  2.612650e+11  \n",
       "\n",
       "[384 rows x 6 columns]"
      ]
     },
     "execution_count": 3,
     "metadata": {},
     "output_type": "execute_result"
    }
   ],
   "source": [
    "df_arrecadacao_federal_rb = ipea.timeseries('SRF12_TOTGER12')\n",
    "\n",
    "df_arrecadacao_federal_rb_limpo = df_arrecadacao_federal_rb.rename(columns={\n",
    "    'CODE': 'code',\n",
    "    'RAW DATE': 'raw_date',\n",
    "    'DAY': 'day',\n",
    "    'MONTH': 'month',\n",
    "    'YEAR': 'year',\n",
    "    'VALUE (R$)': 'real_value'\n",
    "})\n",
    "\n",
    "\n",
    "df_arrecadacao_federal_rb_limpo.columns\n",
    "\n",
    "df_arrecadacao_federal_rb_limpo['real_value'] = df_arrecadacao_federal_rb_limpo['real_value'] * 1_000_000 # multiplicando pra ficar no numero bruto\n",
    "\n",
    "df_arrecadacao_federal_rb_limpo['real_value'] = df_arrecadacao_federal_rb_limpo['real_value'].round(2)\n",
    "\n",
    "df_arrecadacao_federal_rb_limpo\n",
    "\n"
   ]
  },
  {
   "cell_type": "code",
   "execution_count": 4,
   "id": "63d8e3df",
   "metadata": {},
   "outputs": [
    {
     "name": "stderr",
     "output_type": "stream",
     "text": [
      "C:\\Users\\Dogec\\AppData\\Local\\Temp\\ipykernel_17244\\513175933.py:31: SettingWithCopyWarning: \n",
      "A value is trying to be set on a copy of a slice from a DataFrame.\n",
      "Try using .loc[row_indexer,col_indexer] = value instead\n",
      "\n",
      "See the caveats in the documentation: https://pandas.pydata.org/pandas-docs/stable/user_guide/indexing.html#returning-a-view-versus-a-copy\n",
      "  df_filtrado['moeda'] = df_filtrado['Ano'].apply(map_moeda)\n"
     ]
    },
    {
     "data": {
      "application/vnd.microsoft.datawrangler.viewer.v0+json": {
       "columns": [
        {
         "name": "index",
         "rawType": "int64",
         "type": "integer"
        },
        {
         "name": "Ano",
         "rawType": "int32",
         "type": "integer"
        },
        {
         "name": "Receita Arrecadada",
         "rawType": "object",
         "type": "unknown"
        },
        {
         "name": "Despesa realizada",
         "rawType": "object",
         "type": "unknown"
        },
        {
         "name": "Superavit(+) ou Deficit(-)",
         "rawType": "object",
         "type": "unknown"
        },
        {
         "name": "moeda",
         "rawType": "object",
         "type": "string"
        }
       ],
       "conversionMethod": "pd.DataFrame",
       "ref": "2fcedafb-2ffb-4913-b15b-90bc4c002dea",
       "rows": [
        [
         "87",
         "1980",
         "1230018000",
         "1190994000",
         "39024000",
         "Milhares de cruzeiros (Cr$ 1.000)"
        ],
        [
         "88",
         "1981",
         "2351966000",
         "2254895000",
         "97071000",
         "Milhares de cruzeiros (Cr$ 1.000)"
        ],
        [
         "89",
         "1982",
         "4774815000",
         "4619772000",
         "155043000",
         "Milhares de cruzeiros (Cr$ 1.000)"
        ],
        [
         "90",
         "1983",
         "11779847000",
         "11104585000",
         "675262000",
         "Milhares de cruzeiros (Cr$ 1.000)"
        ],
        [
         "91",
         "1984",
         "36414053000",
         "33817215000",
         "2596838000",
         "Milhares de cruzeiros (Cr$ 1.000)"
        ],
        [
         "92",
         "1985",
         "134851122000",
         "130425844000",
         "4425278000",
         "Milhares de cruzeiros (Cr$ 1.000)"
        ],
        [
         "94",
         "1986",
         "562828690",
         "548108711",
         "14719979",
         "Milhares de cruzados (Cz$ 1.000)"
        ],
        [
         "95",
         "1987",
         "1692405901",
         "1615099596",
         "77306305",
         "Milhares de cruzados (Cz$ 1.000)"
        ],
        [
         "96",
         "1988",
         "15949586311",
         "15857926137",
         "91660174",
         "Milhares de cruzados (Cz$ 1.000)"
        ],
        [
         "98",
         "1989",
         "547059356",
         "577265809",
         "-30206453",
         "Milhares de cruzados novos (NCz$ 1.000)"
        ],
        [
         "100",
         "1990",
         "21649721712",
         "21580391162",
         "69330550",
         "Milhares de cruzeiros (Cr$ 1.000)"
        ],
        [
         "101",
         "1991",
         "46073797067",
         "45889223130",
         "184573937",
         "Milhares de cruzeiros (Cr$ 1.000)"
        ],
        [
         "102",
         "1992",
         "659074785624",
         "629777415215",
         "29297370409",
         "Milhares de cruzeiros (Cr$ 1.000)"
        ],
        [
         "104",
         "1993",
         "22358761287",
         "20452748094",
         "1906013193",
         "Milhares de cruzeiros reais (CR$ 1.000)"
        ]
       ],
       "shape": {
        "columns": 5,
        "rows": 14
       }
      },
      "text/html": [
       "<div>\n",
       "<style scoped>\n",
       "    .dataframe tbody tr th:only-of-type {\n",
       "        vertical-align: middle;\n",
       "    }\n",
       "\n",
       "    .dataframe tbody tr th {\n",
       "        vertical-align: top;\n",
       "    }\n",
       "\n",
       "    .dataframe thead th {\n",
       "        text-align: right;\n",
       "    }\n",
       "</style>\n",
       "<table border=\"1\" class=\"dataframe\">\n",
       "  <thead>\n",
       "    <tr style=\"text-align: right;\">\n",
       "      <th></th>\n",
       "      <th>Ano</th>\n",
       "      <th>Receita Arrecadada</th>\n",
       "      <th>Despesa realizada</th>\n",
       "      <th>Superavit(+) ou Deficit(-)</th>\n",
       "      <th>moeda</th>\n",
       "    </tr>\n",
       "  </thead>\n",
       "  <tbody>\n",
       "    <tr>\n",
       "      <th>87</th>\n",
       "      <td>1980</td>\n",
       "      <td>1230018000</td>\n",
       "      <td>1190994000</td>\n",
       "      <td>39024000</td>\n",
       "      <td>Milhares de cruzeiros (Cr$ 1.000)</td>\n",
       "    </tr>\n",
       "    <tr>\n",
       "      <th>88</th>\n",
       "      <td>1981</td>\n",
       "      <td>2351966000</td>\n",
       "      <td>2254895000</td>\n",
       "      <td>97071000</td>\n",
       "      <td>Milhares de cruzeiros (Cr$ 1.000)</td>\n",
       "    </tr>\n",
       "    <tr>\n",
       "      <th>89</th>\n",
       "      <td>1982</td>\n",
       "      <td>4774815000</td>\n",
       "      <td>4619772000</td>\n",
       "      <td>155043000</td>\n",
       "      <td>Milhares de cruzeiros (Cr$ 1.000)</td>\n",
       "    </tr>\n",
       "    <tr>\n",
       "      <th>90</th>\n",
       "      <td>1983</td>\n",
       "      <td>11779847000</td>\n",
       "      <td>11104585000</td>\n",
       "      <td>675262000</td>\n",
       "      <td>Milhares de cruzeiros (Cr$ 1.000)</td>\n",
       "    </tr>\n",
       "    <tr>\n",
       "      <th>91</th>\n",
       "      <td>1984</td>\n",
       "      <td>36414053000</td>\n",
       "      <td>33817215000</td>\n",
       "      <td>2596838000</td>\n",
       "      <td>Milhares de cruzeiros (Cr$ 1.000)</td>\n",
       "    </tr>\n",
       "    <tr>\n",
       "      <th>92</th>\n",
       "      <td>1985</td>\n",
       "      <td>134851122000</td>\n",
       "      <td>130425844000</td>\n",
       "      <td>4425278000</td>\n",
       "      <td>Milhares de cruzeiros (Cr$ 1.000)</td>\n",
       "    </tr>\n",
       "    <tr>\n",
       "      <th>94</th>\n",
       "      <td>1986</td>\n",
       "      <td>562828690</td>\n",
       "      <td>548108711</td>\n",
       "      <td>14719979</td>\n",
       "      <td>Milhares de cruzados (Cz$ 1.000)</td>\n",
       "    </tr>\n",
       "    <tr>\n",
       "      <th>95</th>\n",
       "      <td>1987</td>\n",
       "      <td>1692405901</td>\n",
       "      <td>1615099596</td>\n",
       "      <td>77306305</td>\n",
       "      <td>Milhares de cruzados (Cz$ 1.000)</td>\n",
       "    </tr>\n",
       "    <tr>\n",
       "      <th>96</th>\n",
       "      <td>1988</td>\n",
       "      <td>15949586311</td>\n",
       "      <td>15857926137</td>\n",
       "      <td>91660174</td>\n",
       "      <td>Milhares de cruzados (Cz$ 1.000)</td>\n",
       "    </tr>\n",
       "    <tr>\n",
       "      <th>98</th>\n",
       "      <td>1989</td>\n",
       "      <td>547059356</td>\n",
       "      <td>577265809</td>\n",
       "      <td>-30206453</td>\n",
       "      <td>Milhares de cruzados novos (NCz$ 1.000)</td>\n",
       "    </tr>\n",
       "    <tr>\n",
       "      <th>100</th>\n",
       "      <td>1990</td>\n",
       "      <td>21649721712</td>\n",
       "      <td>21580391162</td>\n",
       "      <td>69330550</td>\n",
       "      <td>Milhares de cruzeiros (Cr$ 1.000)</td>\n",
       "    </tr>\n",
       "    <tr>\n",
       "      <th>101</th>\n",
       "      <td>1991</td>\n",
       "      <td>46073797067</td>\n",
       "      <td>45889223130</td>\n",
       "      <td>184573937</td>\n",
       "      <td>Milhares de cruzeiros (Cr$ 1.000)</td>\n",
       "    </tr>\n",
       "    <tr>\n",
       "      <th>102</th>\n",
       "      <td>1992</td>\n",
       "      <td>659074785624</td>\n",
       "      <td>629777415215</td>\n",
       "      <td>29297370409</td>\n",
       "      <td>Milhares de cruzeiros (Cr$ 1.000)</td>\n",
       "    </tr>\n",
       "    <tr>\n",
       "      <th>104</th>\n",
       "      <td>1993</td>\n",
       "      <td>22358761287</td>\n",
       "      <td>20452748094</td>\n",
       "      <td>1906013193</td>\n",
       "      <td>Milhares de cruzeiros reais (CR$ 1.000)</td>\n",
       "    </tr>\n",
       "  </tbody>\n",
       "</table>\n",
       "</div>"
      ],
      "text/plain": [
       "      Ano Receita Arrecadada Despesa realizada Superavit(+) ou Deficit(-)  \\\n",
       "87   1980         1230018000        1190994000                   39024000   \n",
       "88   1981         2351966000        2254895000                   97071000   \n",
       "89   1982         4774815000        4619772000                  155043000   \n",
       "90   1983        11779847000       11104585000                  675262000   \n",
       "91   1984        36414053000       33817215000                 2596838000   \n",
       "92   1985       134851122000      130425844000                 4425278000   \n",
       "94   1986          562828690         548108711                   14719979   \n",
       "95   1987         1692405901        1615099596                   77306305   \n",
       "96   1988        15949586311       15857926137                   91660174   \n",
       "98   1989          547059356         577265809                  -30206453   \n",
       "100  1990        21649721712       21580391162                   69330550   \n",
       "101  1991        46073797067       45889223130                  184573937   \n",
       "102  1992       659074785624      629777415215                29297370409   \n",
       "104  1993        22358761287       20452748094                 1906013193   \n",
       "\n",
       "                                       moeda  \n",
       "87         Milhares de cruzeiros (Cr$ 1.000)  \n",
       "88         Milhares de cruzeiros (Cr$ 1.000)  \n",
       "89         Milhares de cruzeiros (Cr$ 1.000)  \n",
       "90         Milhares de cruzeiros (Cr$ 1.000)  \n",
       "91         Milhares de cruzeiros (Cr$ 1.000)  \n",
       "92         Milhares de cruzeiros (Cr$ 1.000)  \n",
       "94          Milhares de cruzados (Cz$ 1.000)  \n",
       "95          Milhares de cruzados (Cz$ 1.000)  \n",
       "96          Milhares de cruzados (Cz$ 1.000)  \n",
       "98   Milhares de cruzados novos (NCz$ 1.000)  \n",
       "100        Milhares de cruzeiros (Cr$ 1.000)  \n",
       "101        Milhares de cruzeiros (Cr$ 1.000)  \n",
       "102        Milhares de cruzeiros (Cr$ 1.000)  \n",
       "104  Milhares de cruzeiros reais (CR$ 1.000)  "
      ]
     },
     "execution_count": 4,
     "metadata": {},
     "output_type": "execute_result"
    }
   ],
   "source": [
    "arquivo = 'https://seculoxx.ibge.gov.br/images/seculoxx/economia/financas_publicas/fp01_receitadespesauniao.xls'\n",
    "\n",
    "df_receita = pd.read_excel(arquivo)\n",
    "\n",
    "df_receita = df_receita.rename(columns={'Receita e despesa da União': 'Ano', \n",
    "                                        'Unnamed: 1': 'Receita Arrecadada', \n",
    "                                        'Unnamed: 2': 'Despesa realizada', \n",
    "                                        'Unnamed: 3': 'Superavit(+) ou Deficit(-)'})\n",
    "\n",
    "df_receita['Ano'] = pd.to_numeric(df_receita['Ano'], errors='coerce')\n",
    "\n",
    "df_receita['Ano'] = df_receita['Ano'].fillna(0).astype(int)\n",
    "\n",
    "\n",
    "df_filtrado = df_receita[(df_receita['Ano'] >= 1980) & (df_receita['Ano'] <= 1993)]\n",
    "\n",
    "def map_moeda(ano):\n",
    "    if 1970 <= ano <= 1985:\n",
    "        return \"Milhares de cruzeiros (Cr$ 1.000)\"\n",
    "    elif 1986 <= ano <= 1988:\n",
    "        return \"Milhares de cruzados (Cz$ 1.000)\"\n",
    "    elif ano == 1989:\n",
    "        return \"Milhares de cruzados novos (NCz$ 1.000)\"\n",
    "    elif 1990 <= ano <= 1992:\n",
    "        return \"Milhares de cruzeiros (Cr$ 1.000)\"\n",
    "    elif ano == 1993:\n",
    "        return \"Milhares de cruzeiros reais (CR$ 1.000)\"\n",
    "    else:\n",
    "        return \"Moeda não definida\"\n",
    "    \n",
    "df_filtrado['moeda'] = df_filtrado['Ano'].apply(map_moeda)\n",
    "\n",
    "\n",
    "df_filtrado"
   ]
  }
 ],
 "metadata": {
  "kernelspec": {
   "display_name": "Python 3",
   "language": "python",
   "name": "python3"
  },
  "language_info": {
   "codemirror_mode": {
    "name": "ipython",
    "version": 3
   },
   "file_extension": ".py",
   "mimetype": "text/x-python",
   "name": "python",
   "nbconvert_exporter": "python",
   "pygments_lexer": "ipython3",
   "version": "3.12.0"
  }
 },
 "nbformat": 4,
 "nbformat_minor": 5
}
